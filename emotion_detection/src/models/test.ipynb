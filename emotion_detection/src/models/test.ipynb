{
 "cells": [
  {
   "cell_type": "code",
   "execution_count": 1,
   "id": "955a15e8",
   "metadata": {},
   "outputs": [],
   "source": [
    "import os"
   ]
  },
  {
   "cell_type": "code",
   "execution_count": 49,
   "id": "60ea470c",
   "metadata": {},
   "outputs": [
    {
     "data": {
      "text/plain": [
       "'c:\\\\Users\\\\senor\\\\OneDrive\\\\Desktop\\\\ds\\\\campusx\\\\mlops\\\\ml_pipeline_dvc_cookiecutter\\\\emotion_detection'"
      ]
     },
     "execution_count": 49,
     "metadata": {},
     "output_type": "execute_result"
    }
   ],
   "source": [
    "os.getcwd()"
   ]
  },
  {
   "cell_type": "code",
   "execution_count": 50,
   "id": "109e3513",
   "metadata": {},
   "outputs": [],
   "source": [
    "os.chdir(\"c:\\\\Users\\\\senor\\\\OneDrive\\\\Desktop\\\\ds\\\\campusx\\\\mlops\\\\ml_pipeline_dvc_cookiecutter\\\\emotion_detection\\\\src\\\\models\")"
   ]
  },
  {
   "cell_type": "code",
   "execution_count": 2,
   "id": "ab246c1c",
   "metadata": {},
   "outputs": [
    {
     "data": {
      "text/plain": [
       "'c:\\\\Users\\\\senor\\\\OneDrive\\\\Desktop\\\\ds\\\\campusx\\\\mlops\\\\ml_pipeline_dvc_cookiecutter\\\\emotion_detection\\\\src\\\\models'"
      ]
     },
     "execution_count": 2,
     "metadata": {},
     "output_type": "execute_result"
    }
   ],
   "source": [
    "os.getcwd()"
   ]
  },
  {
   "cell_type": "code",
   "execution_count": 4,
   "id": "cd19d720",
   "metadata": {},
   "outputs": [],
   "source": [
    "__file__ = \"test.ipynb\""
   ]
  },
  {
   "cell_type": "code",
   "execution_count": 5,
   "id": "8a00e882",
   "metadata": {},
   "outputs": [
    {
     "data": {
      "text/plain": [
       "'test.ipynb'"
      ]
     },
     "execution_count": 5,
     "metadata": {},
     "output_type": "execute_result"
    }
   ],
   "source": [
    "__file__"
   ]
  },
  {
   "cell_type": "code",
   "execution_count": 48,
   "id": "8f0bcada",
   "metadata": {},
   "outputs": [
    {
     "data": {
      "text/plain": [
       "'c:\\\\Users\\\\senor\\\\OneDrive\\\\Desktop\\\\ds\\\\campusx\\\\mlops\\\\ml_pipeline_dvc_cookiecutter\\\\emotion_detection\\\\test.ipynb'"
      ]
     },
     "execution_count": 48,
     "metadata": {},
     "output_type": "execute_result"
    }
   ],
   "source": [
    "os.path.abspath(__file__)"
   ]
  },
  {
   "cell_type": "code",
   "execution_count": 7,
   "id": "7a6e9a49",
   "metadata": {},
   "outputs": [
    {
     "data": {
      "text/plain": [
       "'c:\\\\Users\\\\senor\\\\OneDrive\\\\Desktop\\\\ds\\\\campusx\\\\mlops\\\\ml_pipeline_dvc_cookiecutter\\\\emotion_detection\\\\src\\\\models'"
      ]
     },
     "execution_count": 7,
     "metadata": {},
     "output_type": "execute_result"
    }
   ],
   "source": [
    "os.path.dirname(os.path.abspath(__file__))"
   ]
  },
  {
   "cell_type": "code",
   "execution_count": 8,
   "id": "45755212",
   "metadata": {},
   "outputs": [
    {
     "data": {
      "text/plain": [
       "'c:\\\\Users\\\\senor\\\\OneDrive\\\\Desktop\\\\ds\\\\campusx\\\\mlops\\\\ml_pipeline_dvc_cookiecutter\\\\emotion_detection\\\\src'"
      ]
     },
     "execution_count": 8,
     "metadata": {},
     "output_type": "execute_result"
    }
   ],
   "source": [
    "os.path.dirname(os.path.dirname(os.path.abspath(__file__)))"
   ]
  },
  {
   "cell_type": "code",
   "execution_count": 46,
   "id": "0ca17423",
   "metadata": {},
   "outputs": [],
   "source": [
    "BASE_DIR = os.path.dirname(os.path.dirname(os.path.dirname(os.path.abspath(__file__))))"
   ]
  },
  {
   "cell_type": "code",
   "execution_count": 13,
   "id": "22e3b6ff",
   "metadata": {},
   "outputs": [
    {
     "data": {
      "text/plain": [
       "'c:\\\\Users\\\\senor\\\\OneDrive\\\\Desktop\\\\ds\\\\campusx\\\\mlops\\\\ml_pipeline_dvc_cookiecutter\\\\emotion_detection\\\\src\\\\models'"
      ]
     },
     "execution_count": 13,
     "metadata": {},
     "output_type": "execute_result"
    }
   ],
   "source": [
    "os.path.abspath(os.path.dirname(\"././models\"))"
   ]
  },
  {
   "cell_type": "code",
   "execution_count": 14,
   "id": "719e7853",
   "metadata": {},
   "outputs": [],
   "source": [
    "os.makedirs(\"././models_1\", exist_ok=True)"
   ]
  },
  {
   "cell_type": "code",
   "execution_count": 47,
   "id": "089fef8d",
   "metadata": {},
   "outputs": [
    {
     "data": {
      "text/plain": [
       "'c:\\\\Users\\\\senor\\\\OneDrive\\\\Desktop\\\\ds\\\\campusx\\\\mlops'"
      ]
     },
     "execution_count": 47,
     "metadata": {},
     "output_type": "execute_result"
    }
   ],
   "source": [
    "BASE_DIR"
   ]
  },
  {
   "cell_type": "code",
   "execution_count": 18,
   "id": "ab657ccf",
   "metadata": {},
   "outputs": [
    {
     "data": {
      "text/plain": [
       "'c:\\\\Users\\\\senor\\\\OneDrive\\\\Desktop\\\\ds\\\\campusx\\\\mlops\\\\ml_pipeline_dvc_cookiecutter\\\\emotion_detection\\\\models_2'"
      ]
     },
     "execution_count": 18,
     "metadata": {},
     "output_type": "execute_result"
    }
   ],
   "source": [
    "MODELS_DIR = os.path.join(BASE_DIR, \"models_2\")\n",
    "MODELS_DIR"
   ]
  },
  {
   "cell_type": "code",
   "execution_count": 19,
   "id": "12dee598",
   "metadata": {},
   "outputs": [],
   "source": [
    "os.makedirs(MODELS_DIR, exist_ok=True)"
   ]
  },
  {
   "cell_type": "code",
   "execution_count": 35,
   "id": "6604d4a3",
   "metadata": {},
   "outputs": [
    {
     "data": {
      "text/plain": [
       "'emotion_detection\\\\models_3'"
      ]
     },
     "execution_count": 35,
     "metadata": {},
     "output_type": "execute_result"
    }
   ],
   "source": [
    "models_path = os.path.join(\"emotion_detection\", \"models_3\")\n",
    "models_path"
   ]
  },
  {
   "cell_type": "code",
   "execution_count": 36,
   "id": "c1f5ebe2",
   "metadata": {},
   "outputs": [],
   "source": [
    "os.makedirs(models_path, exist_ok = True)"
   ]
  },
  {
   "cell_type": "code",
   "execution_count": 26,
   "id": "b9695150",
   "metadata": {},
   "outputs": [
    {
     "data": {
      "text/plain": [
       "'c:\\\\Users\\\\senor\\\\OneDrive\\\\Desktop\\\\ds\\\\campusx\\\\mlops\\\\ml_pipeline_dvc_cookiecutter\\\\emotion_detection\\\\src\\\\models\\\\emotion_detection\\\\models_3'"
      ]
     },
     "execution_count": 26,
     "metadata": {},
     "output_type": "execute_result"
    }
   ],
   "source": [
    "os.path.abspath(models_path)"
   ]
  },
  {
   "cell_type": "code",
   "execution_count": 30,
   "id": "aa8820af",
   "metadata": {},
   "outputs": [],
   "source": [
    "os.chdir(r\"./emotion_detection\")"
   ]
  },
  {
   "cell_type": "code",
   "execution_count": 32,
   "id": "df281c9e",
   "metadata": {},
   "outputs": [
    {
     "data": {
      "text/plain": [
       "'c:\\\\Users\\\\senor\\\\OneDrive\\\\Desktop\\\\ds\\\\campusx\\\\mlops\\\\ml_pipeline_dvc_cookiecutter\\\\emotion_detection\\\\src\\\\models\\\\emotion_detection'"
      ]
     },
     "execution_count": 32,
     "metadata": {},
     "output_type": "execute_result"
    }
   ],
   "source": [
    "os.getcwd()"
   ]
  },
  {
   "cell_type": "code",
   "execution_count": 33,
   "id": "42986e58",
   "metadata": {},
   "outputs": [],
   "source": [
    "os.chdir(\"c:\\\\Users\\\\senor\\\\OneDrive\\\\Desktop\\\\ds\\\\campusx\\\\mlops\\\\ml_pipeline_dvc_cookiecutter\\\\emotion_detection\")"
   ]
  },
  {
   "cell_type": "code",
   "execution_count": 37,
   "id": "e6cfbf07",
   "metadata": {},
   "outputs": [
    {
     "data": {
      "text/plain": [
       "'c:\\\\Users\\\\senor\\\\OneDrive\\\\Desktop\\\\ds\\\\campusx\\\\mlops\\\\ml_pipeline_dvc_cookiecutter\\\\emotion_detection'"
      ]
     },
     "execution_count": 37,
     "metadata": {},
     "output_type": "execute_result"
    }
   ],
   "source": [
    "os.getcwd()"
   ]
  },
  {
   "cell_type": "code",
   "execution_count": 38,
   "id": "39c0f880",
   "metadata": {},
   "outputs": [],
   "source": [
    "os.makedirs(\"models_3\", exist_ok=True)"
   ]
  },
  {
   "cell_type": "code",
   "execution_count": 44,
   "id": "67f466dd",
   "metadata": {},
   "outputs": [
    {
     "data": {
      "text/plain": [
       "'..\\\\params.yaml'"
      ]
     },
     "execution_count": 44,
     "metadata": {},
     "output_type": "execute_result"
    }
   ],
   "source": [
    "param_path = os.path.join(os.path.dirname(__file__), \"..\", \"params.yaml\")\n",
    "param_path"
   ]
  },
  {
   "cell_type": "code",
   "execution_count": 45,
   "id": "37627f33",
   "metadata": {},
   "outputs": [
    {
     "data": {
      "text/plain": [
       "'c:\\\\Users\\\\senor\\\\OneDrive\\\\Desktop\\\\ds\\\\campusx\\\\mlops\\\\ml_pipeline_dvc_cookiecutter\\\\params.yaml'"
      ]
     },
     "execution_count": 45,
     "metadata": {},
     "output_type": "execute_result"
    }
   ],
   "source": [
    "param_path = os.path.abspath(param_path)\n",
    "param_path"
   ]
  },
  {
   "cell_type": "code",
   "execution_count": 63,
   "id": "e3496406",
   "metadata": {},
   "outputs": [
    {
     "data": {
      "text/plain": [
       "'c:\\\\Users\\\\senor\\\\OneDrive\\\\Desktop\\\\ds\\\\campusx\\\\mlops\\\\ml_pipeline_dvc_cookiecutter\\\\emotion_detection\\\\src\\\\models'"
      ]
     },
     "execution_count": 63,
     "metadata": {},
     "output_type": "execute_result"
    }
   ],
   "source": [
    "os.getcwd()"
   ]
  },
  {
   "cell_type": "code",
   "execution_count": null,
   "id": "9d05cfa9",
   "metadata": {},
   "outputs": [],
   "source": [
    "os.chdir(\"\")"
   ]
  },
  {
   "cell_type": "code",
   "execution_count": 61,
   "id": "4d6f57d1",
   "metadata": {},
   "outputs": [
    {
     "data": {
      "text/plain": [
       "'emotion_detection/models'"
      ]
     },
     "execution_count": 61,
     "metadata": {},
     "output_type": "execute_result"
    }
   ],
   "source": [
    "models_dir = os.path.join(\"emotion_detection/models\")\n",
    "models_dir"
   ]
  },
  {
   "cell_type": "code",
   "execution_count": 62,
   "id": "7d07389b",
   "metadata": {},
   "outputs": [
    {
     "data": {
      "text/plain": [
       "'c:\\\\Users\\\\senor\\\\OneDrive\\\\Desktop\\\\ds\\\\campusx\\\\mlops\\\\ml_pipeline_dvc_cookiecutter\\\\emotion_detection\\\\src\\\\models\\\\emotion_detection\\\\models'"
      ]
     },
     "execution_count": 62,
     "metadata": {},
     "output_type": "execute_result"
    }
   ],
   "source": [
    "os.path.abspath(models_dir)"
   ]
  },
  {
   "cell_type": "code",
   "execution_count": 64,
   "id": "ee3d4c88",
   "metadata": {},
   "outputs": [
    {
     "data": {
      "text/plain": [
       "'c:\\\\Users\\\\senor\\\\OneDrive\\\\Desktop\\\\ds\\\\campusx\\\\mlops\\\\ml_pipeline_dvc_cookiecutter\\\\emotion_detection\\\\src\\\\models'"
      ]
     },
     "execution_count": 64,
     "metadata": {},
     "output_type": "execute_result"
    }
   ],
   "source": [
    "os.getcwd()"
   ]
  },
  {
   "cell_type": "code",
   "execution_count": 69,
   "id": "55fa47c8",
   "metadata": {},
   "outputs": [
    {
     "data": {
      "text/plain": [
       "NoneType"
      ]
     },
     "execution_count": 69,
     "metadata": {},
     "output_type": "execute_result"
    }
   ],
   "source": [
    "new_path = os.chdir(\"../../../\")\n",
    "type(new_path)"
   ]
  },
  {
   "cell_type": "code",
   "execution_count": null,
   "id": "f116ca34",
   "metadata": {},
   "outputs": [
    {
     "ename": "TypeError",
     "evalue": "_getfullpathname: path should be string, bytes or os.PathLike, not NoneType",
     "output_type": "error",
     "traceback": [
      "\u001b[1;31m---------------------------------------------------------------------------\u001b[0m",
      "\u001b[1;31mTypeError\u001b[0m                                 Traceback (most recent call last)",
      "Cell \u001b[1;32mIn[66], line 1\u001b[0m\n\u001b[1;32m----> 1\u001b[0m \u001b[43mos\u001b[49m\u001b[38;5;241;43m.\u001b[39;49m\u001b[43mpath\u001b[49m\u001b[38;5;241;43m.\u001b[39;49m\u001b[43mabspath\u001b[49m\u001b[43m(\u001b[49m\u001b[43mnew_path\u001b[49m\u001b[43m)\u001b[49m\n",
      "File \u001b[1;32mc:\\Users\\senor\\anaconda3\\envs\\mlops\\lib\\ntpath.py:567\u001b[0m, in \u001b[0;36mabspath\u001b[1;34m(path)\u001b[0m\n\u001b[0;32m    565\u001b[0m \u001b[38;5;250m\u001b[39m\u001b[38;5;124;03m\"\"\"Return the absolute version of a path.\"\"\"\u001b[39;00m\n\u001b[0;32m    566\u001b[0m \u001b[38;5;28;01mtry\u001b[39;00m:\n\u001b[1;32m--> 567\u001b[0m     \u001b[38;5;28;01mreturn\u001b[39;00m normpath(\u001b[43m_getfullpathname\u001b[49m\u001b[43m(\u001b[49m\u001b[43mpath\u001b[49m\u001b[43m)\u001b[49m)\n\u001b[0;32m    568\u001b[0m \u001b[38;5;28;01mexcept\u001b[39;00m (\u001b[38;5;167;01mOSError\u001b[39;00m, \u001b[38;5;167;01mValueError\u001b[39;00m):\n\u001b[0;32m    569\u001b[0m     \u001b[38;5;28;01mreturn\u001b[39;00m _abspath_fallback(path)\n",
      "\u001b[1;31mTypeError\u001b[0m: _getfullpathname: path should be string, bytes or os.PathLike, not NoneType"
     ]
    }
   ],
   "source": [
    "os.path.join(cwd, \"\")"
   ]
  },
  {
   "cell_type": "code",
   "execution_count": 73,
   "id": "97620bc3",
   "metadata": {},
   "outputs": [
    {
     "data": {
      "text/plain": [
       "'c:\\\\Users\\\\senor\\\\OneDrive\\\\Desktop\\\\ds'"
      ]
     },
     "execution_count": 73,
     "metadata": {},
     "output_type": "execute_result"
    }
   ],
   "source": [
    "cwd = os.getcwd()\n",
    "cwd"
   ]
  },
  {
   "cell_type": "code",
   "execution_count": 81,
   "id": "814c5d0d",
   "metadata": {},
   "outputs": [],
   "source": [
    "path1 = os.path.abspath(os.path.join(cwd, \"campusx/mlops/ml_pipeline_dvc_cookiecutter/emotion_detection/src/models\"))"
   ]
  },
  {
   "cell_type": "code",
   "execution_count": 82,
   "id": "f6a8620f",
   "metadata": {},
   "outputs": [
    {
     "data": {
      "text/plain": [
       "'c:\\\\Users\\\\senor\\\\OneDrive\\\\Desktop\\\\ds\\\\campusx\\\\mlops\\\\ml_pipeline_dvc_cookiecutter\\\\emotion_detection\\\\src\\\\models'"
      ]
     },
     "execution_count": 82,
     "metadata": {},
     "output_type": "execute_result"
    }
   ],
   "source": [
    "path1"
   ]
  },
  {
   "cell_type": "code",
   "execution_count": 83,
   "id": "9fba6093",
   "metadata": {},
   "outputs": [],
   "source": [
    "os.chdir(path1)"
   ]
  },
  {
   "cell_type": "code",
   "execution_count": 84,
   "id": "7bbe9599",
   "metadata": {},
   "outputs": [
    {
     "data": {
      "text/plain": [
       "'c:\\\\Users\\\\senor\\\\OneDrive\\\\Desktop\\\\ds\\\\campusx\\\\mlops\\\\ml_pipeline_dvc_cookiecutter\\\\emotion_detection\\\\src\\\\models'"
      ]
     },
     "execution_count": 84,
     "metadata": {},
     "output_type": "execute_result"
    }
   ],
   "source": [
    "os.getcwd()"
   ]
  },
  {
   "cell_type": "code",
   "execution_count": 85,
   "id": "7f815ebe",
   "metadata": {},
   "outputs": [],
   "source": [
    "os.chdir(\"../../..\")"
   ]
  },
  {
   "cell_type": "code",
   "execution_count": 86,
   "id": "68b9a155",
   "metadata": {},
   "outputs": [
    {
     "data": {
      "text/plain": [
       "'c:\\\\Users\\\\senor\\\\OneDrive\\\\Desktop\\\\ds\\\\campusx\\\\mlops\\\\ml_pipeline_dvc_cookiecutter'"
      ]
     },
     "execution_count": 86,
     "metadata": {},
     "output_type": "execute_result"
    }
   ],
   "source": [
    "os.getcwd()"
   ]
  },
  {
   "cell_type": "code",
   "execution_count": 89,
   "id": "40f55006",
   "metadata": {},
   "outputs": [],
   "source": [
    "models_dir = os.path.join(os.getcwd(), \"emotion_detection\", \"models\")"
   ]
  },
  {
   "cell_type": "code",
   "execution_count": 91,
   "id": "5e174a7c",
   "metadata": {},
   "outputs": [
    {
     "name": "stdout",
     "output_type": "stream",
     "text": [
      "gradientboosting_latest.pkl\n",
      "logisticregression_latest.pkl\n",
      "randomforest_latest.pkl\n",
      "xgboost_latest.pkl\n"
     ]
    }
   ],
   "source": [
    "for model in os.listdir(models_dir):\n",
    "    if model.endswith(\"_latest.pkl\"):\n",
    "        print(model)"
   ]
  },
  {
   "cell_type": "code",
   "execution_count": 94,
   "id": "1ae2a152",
   "metadata": {},
   "outputs": [],
   "source": [
    "os.chdir(os.path.join(os.getcwd(), \"emotion_detection\"))"
   ]
  },
  {
   "cell_type": "code",
   "execution_count": 95,
   "id": "1a114b9b",
   "metadata": {},
   "outputs": [
    {
     "data": {
      "text/plain": [
       "'c:\\\\Users\\\\senor\\\\OneDrive\\\\Desktop\\\\ds\\\\campusx\\\\mlops\\\\ml_pipeline_dvc_cookiecutter\\\\emotion_detection'"
      ]
     },
     "execution_count": 95,
     "metadata": {},
     "output_type": "execute_result"
    }
   ],
   "source": [
    "os.getcwd()"
   ]
  },
  {
   "cell_type": "code",
   "execution_count": 96,
   "id": "f54a7272",
   "metadata": {},
   "outputs": [
    {
     "name": "stdout",
     "output_type": "stream",
     "text": [
      "gradientboosting_latest.pkl\n",
      "logisticregression_latest.pkl\n",
      "randomforest_latest.pkl\n",
      "xgboost_latest.pkl\n"
     ]
    }
   ],
   "source": [
    "for model in os.listdir(\"models\"):\n",
    "    if model.endswith(\"_latest.pkl\"):\n",
    "        print(model)"
   ]
  },
  {
   "cell_type": "code",
   "execution_count": 3,
   "id": "ddd0ef21",
   "metadata": {},
   "outputs": [
    {
     "data": {
      "text/plain": [
       "'c:\\\\Users\\\\senor\\\\OneDrive\\\\Desktop\\\\ds\\\\campusx\\\\mlops\\\\ml_pipeline_dvc_cookiecutter\\\\emotion_detection\\\\src\\\\models'"
      ]
     },
     "execution_count": 3,
     "metadata": {},
     "output_type": "execute_result"
    }
   ],
   "source": [
    "import os\n",
    "os.getcwd()"
   ]
  },
  {
   "cell_type": "code",
   "execution_count": 4,
   "id": "596aea63",
   "metadata": {},
   "outputs": [],
   "source": [
    "os.chdir(\"../../\")"
   ]
  },
  {
   "cell_type": "code",
   "execution_count": 6,
   "id": "b8bfd427",
   "metadata": {},
   "outputs": [
    {
     "data": {
      "text/plain": [
       "'c:\\\\Users\\\\senor\\\\OneDrive\\\\Desktop\\\\ds\\\\campusx\\\\mlops\\\\ml_pipeline_dvc_cookiecutter\\\\emotion_detection'"
      ]
     },
     "execution_count": 6,
     "metadata": {},
     "output_type": "execute_result"
    }
   ],
   "source": [
    "os.getcwd()"
   ]
  },
  {
   "cell_type": "code",
   "execution_count": 7,
   "id": "39bc403c",
   "metadata": {},
   "outputs": [
    {
     "name": "stdout",
     "output_type": "stream",
     "text": [
      ".env\n",
      ".gitignore\n",
      "data\n",
      "docs\n",
      "dvc.lock\n",
      "dvc.yaml\n",
      "LICENSE\n",
      "logs\n",
      "Makefile\n",
      "models\n",
      "notebooks\n",
      "params.yaml\n",
      "README.md\n",
      "references\n",
      "reports\n",
      "requirements.txt\n",
      "setup.py\n",
      "src\n",
      "test_environment.py\n",
      "tox.ini\n"
     ]
    }
   ],
   "source": [
    "for file in os.listdir(os.getcwd()):\n",
    "    print(file)"
   ]
  },
  {
   "cell_type": "code",
   "execution_count": 8,
   "id": "0c9e5c80",
   "metadata": {},
   "outputs": [],
   "source": [
    "LOG_DIR = \"./logs2\"\n",
    "os.makedirs(LOG_DIR, exist_ok=True)"
   ]
  },
  {
   "cell_type": "code",
   "execution_count": null,
   "id": "7400f949",
   "metadata": {},
   "outputs": [],
   "source": []
  }
 ],
 "metadata": {
  "kernelspec": {
   "display_name": "mlops",
   "language": "python",
   "name": "python3"
  },
  "language_info": {
   "codemirror_mode": {
    "name": "ipython",
    "version": 3
   },
   "file_extension": ".py",
   "mimetype": "text/x-python",
   "name": "python",
   "nbconvert_exporter": "python",
   "pygments_lexer": "ipython3",
   "version": "3.10.18"
  }
 },
 "nbformat": 4,
 "nbformat_minor": 5
}
